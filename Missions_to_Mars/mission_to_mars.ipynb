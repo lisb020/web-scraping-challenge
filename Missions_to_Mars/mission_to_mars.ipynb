{
 "cells": [
  {
   "cell_type": "code",
   "execution_count": 1,
   "metadata": {},
   "outputs": [],
   "source": [
    "import pandas as pd\n",
    "from bs4 import BeautifulSoup\n",
    "import requests\n",
    "import pymongo\n",
    "from splinter import Browser\n",
    "from webdriver_manager.chrome import ChromeDriverManager\n",
    "import time"
   ]
  },
  {
   "cell_type": "code",
   "execution_count": 2,
   "metadata": {},
   "outputs": [],
   "source": [
    "# URL of page to be scraped\n",
    "urlnasa = 'https://mars.nasa.gov/news/'\n",
    "\n",
    "# Retrieve page with the requests module\n",
    "response = requests.get(urlnasa)\n",
    "# Create BeautifulSoup object; parse with 'lxml'\n",
    "soup = BeautifulSoup(response.text, 'lxml')"
   ]
  },
  {
   "cell_type": "code",
   "execution_count": 3,
   "metadata": {},
   "outputs": [],
   "source": [
    "# results are returned as an iterable list\n",
    "title_results = soup.find_all('div', class_='content_title')\n",
    "teaser_results = soup.find_all('div', class_='rollover_description_inner')\n",
    "\n",
    "# Loop through returned title results\n",
    "for resulttitle in title_results:\n",
    "    # Error handling\n",
    "    try:\n",
    "        # Identify and return title of article\n",
    "        title = resulttitle.find('a').text\n",
    "    \n",
    "    except Exception as e:\n",
    "        print(e)\n",
    "\n",
    "for result in teaser_results:\n",
    "    # Error handling\n",
    "    try:\n",
    "        # Identify and return paragraph of article\n",
    "        paragraph = result.text\n",
    "\n",
    "    except Exception as e:\n",
    "        print(e)"
   ]
  },
  {
   "cell_type": "code",
   "execution_count": 4,
   "metadata": {},
   "outputs": [],
   "source": [
    "#scraping Mars facts table\n",
    "#________________________\n",
    "urlfact = \"https://space-facts.com/mars/\"\n",
    "facttable = pd.read_html(urlfact)"
   ]
  },
  {
   "cell_type": "code",
   "execution_count": 5,
   "metadata": {},
   "outputs": [],
   "source": [
    "df = facttable[0]"
   ]
  },
  {
   "cell_type": "code",
   "execution_count": 6,
   "metadata": {},
   "outputs": [],
   "source": [
    "#df = df.rename(columns={0: \"params\", 1: \"values\"})\n",
    "#df = df.set_index(\"params\")"
   ]
  },
  {
   "cell_type": "code",
   "execution_count": 7,
   "metadata": {},
   "outputs": [],
   "source": [
    "html_table = df.to_html()"
   ]
  },
  {
   "cell_type": "code",
   "execution_count": 8,
   "metadata": {},
   "outputs": [
    {
     "name": "stderr",
     "output_type": "stream",
     "text": [
      "[WDM] - Current google-chrome version is 88.0.4324\n",
      "[WDM] - Get LATEST driver version for 88.0.4324\n",
      "[WDM] - Driver [/Users/lisastroh/.wdm/drivers/chromedriver/mac64/88.0.4324.96/chromedriver] found in cache\n"
     ]
    },
    {
     "name": "stdout",
     "output_type": "stream",
     "text": [
      " \n"
     ]
    }
   ],
   "source": [
    "#scraping images\n",
    "#---------------\n",
    "\n",
    "urlpic = \"https://astrogeology.usgs.gov/search/results?q=hemisphere+enhanced&k1=target&v1=Mars\"\n",
    "# Setup splinter\n",
    "executable_path = {'executable_path': ChromeDriverManager().install()}\n",
    "browser = Browser('chrome', **executable_path, headless=False)\n"
   ]
  },
  {
   "cell_type": "code",
   "execution_count": 9,
   "metadata": {},
   "outputs": [],
   "source": [
    "#set up list\n",
    "hemisphere_image_urls = []\n",
    "\n",
    "#list of hemispheres to click through on website\n",
    "Hemispheres = [\"Cerberus\", \"Schiaparelli\",\"Syrtis\",\"Valles\"]\n",
    "\n",
    "#loop through list of hemispheres to click on each one on the website\n",
    "for hemisphere in Hemispheres:\n",
    "    #restart on the initial browser page\n",
    "    browser.visit(urlpic)\n",
    "    #click on hemisphere link\n",
    "    browser.links.find_by_partial_text(hemisphere).click()\n",
    "    #get the html\n",
    "    page = browser.html\n",
    "    soup_page = BeautifulSoup(page, 'html.parser')\n",
    "    #find the title and link in the html\n",
    "    pictitle = soup_page.find('h2', class_=\"title\").text\n",
    "    piclink = soup_page.find('div', class_='downloads').li.a[\"href\"]\n",
    "    \n",
    "    #put in dictionary\n",
    "    hemisphere_dict = {\n",
    "        \"title\":pictitle,\n",
    "        \"img_url\":piclink\n",
    "    }\n",
    "    #append to list\n",
    "    hemisphere_image_urls.append(hemisphere_dict)"
   ]
  },
  {
   "cell_type": "code",
   "execution_count": 10,
   "metadata": {},
   "outputs": [],
   "source": [
    "browser.quit()"
   ]
  },
  {
   "cell_type": "code",
   "execution_count": null,
   "metadata": {},
   "outputs": [],
   "source": []
  }
 ],
 "metadata": {
  "kernelspec": {
   "display_name": "Python 3",
   "language": "python",
   "name": "python3"
  },
  "language_info": {
   "codemirror_mode": {
    "name": "ipython",
    "version": 3
   },
   "file_extension": ".py",
   "mimetype": "text/x-python",
   "name": "python",
   "nbconvert_exporter": "python",
   "pygments_lexer": "ipython3",
   "version": "3.8.3"
  }
 },
 "nbformat": 4,
 "nbformat_minor": 4
}
